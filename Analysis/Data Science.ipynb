{
 "cells": [
  {
   "cell_type": "code",
   "execution_count": 1,
   "metadata": {},
   "outputs": [],
   "source": [
    "import pandas as pd\n",
    "import matplotlib.pyplot as plt\n",
    "import numpy as np\n",
    "import math\n",
    "from sklearn import svm, datasets\n",
    "from sklearn.linear_model import LinearRegression\n",
    "from sklearn.metrics import mean_squared_error, r2_score\n",
    "from sklearn import linear_model\n",
    "from sklearn.datasets import load_iris\n",
    "from sklearn.linear_model import LogisticRegression\n",
    "from sklearn.preprocessing import PolynomialFeatures\n",
    "%matplotlib inline"
   ]
  },
  {
   "cell_type": "code",
   "execution_count": 2,
   "metadata": {},
   "outputs": [],
   "source": [
    "# Overall Data\n",
    "PData = pd.read_csv(r\"C:\\Users\\thuyd\\Desktop\\bootcamp\\Project 2\\Dataset v1\\Updated Battery related publication dataset_DNedited.csv\")\n",
    "# Unique Publisher Data\n",
    "UData = pd.read_csv(r\"C:\\Users\\thuyd\\Desktop\\bootcamp\\Project 2\\Dataset v1\\Grouped unique publisher citations sum.csv\")\n",
    "# EV Car Sales Data\n",
    "SData = pd.read_csv(r\"C:\\Users\\thuyd\\Desktop\\bootcamp\\Project 2\\Dataset v1\\EVSales_Edited.csv\")\n",
    "# Unique Publisher Data - Sorted\n",
    "USrtData = pd.read_csv(r\"C:\\Users\\thuyd\\Desktop\\bootcamp\\Project 2\\Dataset v1\\Groupedsortedimpacted_publisher_citations_sum.csv\")"
   ]
  },
  {
   "cell_type": "code",
   "execution_count": 3,
   "metadata": {},
   "outputs": [],
   "source": [
    "# Citations Column: Unique\n",
    "Ci_sum = UData.iloc[0:,3].values\n",
    "Ci_years = UData.iloc[0:,1].values\n",
    "\n",
    "# Citations full data - options\n",
    "Ci_P_years = PData.iloc[0:,1].values\n",
    "Ci_P = PData.iloc[0:,0].values\n",
    "Ci_SEI = PData.iloc[0:,6].values\n",
    "Ci_cathode = PData.iloc[0:,7].values\n",
    "Ci_anode = PData.iloc[0:,8].values\n",
    "Ci_efficiency = PData.iloc[0:,9].values\n",
    "Ci_electrode = PData.iloc[0:,10].values\n",
    "\n",
    "# EV Sales Column\n",
    "Sales_sum = SData.iloc[:,1].values\n",
    "Sales_years = SData.iloc[:,0].values\n",
    "\n",
    "# Citations - Publishers unique and sorted\n",
    "USrtData_years = USrtData.iloc[:,1].values\n",
    "USrtData_Ci = USrtData.iloc[:,3].values\n",
    "USrtData_P = USrtData.iloc[:,2]\n",
    "\n",
    "#Sales_years.size for size\n",
    "# Lag_N is assigned publishcation lag\n",
    "\n",
    "Lag_N = 2"
   ]
  },
  {
   "cell_type": "code",
   "execution_count": 4,
   "metadata": {},
   "outputs": [
    {
     "data": {
      "text/plain": [
       "array([ 3819., 11862., 12632., 18320., 25058., 23792., 24569., 27065.,\n",
       "       31693., 42911., 37763., 55467., 22914., 36535., 36645., 48879.,\n",
       "       46804., 41621., 28485., 26364., 22815.])"
      ]
     },
     "execution_count": 4,
     "metadata": {},
     "output_type": "execute_result"
    }
   ],
   "source": [
    "# Citations of all publishers by years\n",
    "j = 0 #index\n",
    "k = 1997 #beginning of the data, end year will have to minus (Lag_N - 1) to account for the publishcation lag\n",
    "yearsum = 0\n",
    "Ci_by_year = np.array([])\n",
    "for i in Ci_years:\n",
    "    if i == k:\n",
    "        yearsum = yearsum + Ci_sum[j]\n",
    "    elif i == 2019:\n",
    "        break\n",
    "    else:\n",
    "        Ci_by_year = np.append(Ci_by_year, yearsum)\n",
    "        k = k + 1\n",
    "        yearsum = 0\n",
    "        yearsum = yearsum + Ci_sum[j]\n",
    "    j = j + 1\n",
    "    \n",
    "# Conditions can be changed later\n",
    "\n",
    "Ci_by_year"
   ]
  },
  {
   "cell_type": "code",
   "execution_count": 5,
   "metadata": {},
   "outputs": [
    {
     "data": {
      "text/plain": [
       "array([  787.,  1641.,  3726.,  1612.,  7802.,  6552., 10066., 11204.,\n",
       "        8870., 13445.,  9248., 18696.,  8891.,  7978., 11396., 17777.,\n",
       "       13182., 15891., 12775., 10504., 10945.])"
      ]
     },
     "execution_count": 5,
     "metadata": {},
     "output_type": "execute_result"
    }
   ],
   "source": [
    "# Citations of all publishers that satisfies the first condition, \"SEI\", by years\n",
    "j = 0 #index\n",
    "k = 1997 \n",
    "yearsum_SEI = 0\n",
    "Ci_by_year_SEI = np.array([])\n",
    "for i in Ci_P_years:\n",
    "    if i == k:\n",
    "        if Ci_SEI[j] == 1:\n",
    "            yearsum_SEI = yearsum_SEI + Ci_P[j]\n",
    "    elif i == 2019: #2019 is cut off point because the lag is 2 years\n",
    "        break\n",
    "    else:     \n",
    "        Ci_by_year_SEI = np.append(Ci_by_year_SEI, yearsum_SEI)\n",
    "        k = k + 1\n",
    "        yearsum_SEI = 0\n",
    "    j = j + 1\n",
    "    \n",
    "#Ci_P_years = PData.iloc[0:,1].values\n",
    "#Ci_P = PData.iloc[0:,0].values\n",
    "#Ci_SEI = PData.iloc[0:,6].values\n",
    "\n",
    "Ci_by_year_SEI"
   ]
  },
  {
   "cell_type": "code",
   "execution_count": 6,
   "metadata": {},
   "outputs": [
    {
     "data": {
      "text/plain": [
       "array([ 183.,  870.,  469.,  309., 5194., 3572., 2250., 4260., 3508.,\n",
       "       5101., 4951., 7281., 2912., 2688., 6110., 4432., 3738., 6025.,\n",
       "       1322., 2344.,  998.])"
      ]
     },
     "execution_count": 6,
     "metadata": {},
     "output_type": "execute_result"
    }
   ],
   "source": [
    "#Ci_cathode = PData.iloc[0:,7].values\n",
    "#Ci_anode = PData.iloc[0:,8].values\n",
    "#Ci_efficiency = PData.iloc[0:,9].values\n",
    "#Ci_electrode = PData.iloc[0:,10].values\n",
    "\n",
    "# Citations of all publishers that satisfies the second condition, \"cathode\", by years\n",
    "j = 0 #index\n",
    "k = 1997 \n",
    "yearsum_cathode = 0\n",
    "Ci_by_year_cathode = np.array([])\n",
    "for i in Ci_P_years:\n",
    "    if i == k:\n",
    "        if Ci_cathode[j] == 1:\n",
    "            yearsum_cathode = yearsum_cathode + Ci_P[j]\n",
    "    elif i == 2019:\n",
    "        break\n",
    "    else:     \n",
    "        Ci_by_year_cathode = np.append(Ci_by_year_cathode, yearsum_cathode)\n",
    "        k = k + 1\n",
    "        yearsum_cathode = 0\n",
    "    j = j + 1\n",
    "Ci_by_year_cathode"
   ]
  },
  {
   "cell_type": "code",
   "execution_count": 7,
   "metadata": {},
   "outputs": [
    {
     "data": {
      "text/plain": [
       "array([  635.,  1832.,  2120., 10557.,  6234.,  4739.,  6302.,  7046.,\n",
       "        5533.,  8163.,  9283., 23874.,  7347., 13253., 12133., 22359.,\n",
       "       12598., 19490.,  8078., 10425., 11915.])"
      ]
     },
     "execution_count": 7,
     "metadata": {},
     "output_type": "execute_result"
    }
   ],
   "source": [
    "# Citations of all publishers that satisfies the third condition, \"anode\", by years\n",
    "j = 0 #index\n",
    "k = 1997 \n",
    "yearsum_anode = 0\n",
    "Ci_by_year_anode = np.array([])\n",
    "for i in Ci_P_years:\n",
    "    if i == k:\n",
    "        if Ci_anode[j] == 1:\n",
    "            yearsum_anode = yearsum_anode + Ci_P[j]\n",
    "    elif i == 2019:\n",
    "        break\n",
    "    else:     \n",
    "        Ci_by_year_anode = np.append(Ci_by_year_anode, yearsum_anode)\n",
    "        k = k + 1\n",
    "        yearsum_anode = 0\n",
    "    j = j + 1\n",
    "Ci_by_year_anode"
   ]
  },
  {
   "cell_type": "code",
   "execution_count": 8,
   "metadata": {},
   "outputs": [
    {
     "data": {
      "text/plain": [
       "array([    0.,     0.,    49.,    49.,   225.,   232.,   270.,   871.,\n",
       "         871.,  1118.,  1874.,  2620.,  3283.,  3439.,  5436.,  8575.,\n",
       "       11354., 11770., 13572., 14368., 16206.])"
      ]
     },
     "execution_count": 8,
     "metadata": {},
     "output_type": "execute_result"
    }
   ],
   "source": [
    "# Citations of all publishers that satisfies the fourth condition, \"efficiency\", by years\n",
    "j = 0 #index\n",
    "k = 1997 \n",
    "yearsum_efficiency = 0\n",
    "Ci_by_year_efficiency = np.array([])\n",
    "for i in Ci_P_years:\n",
    "    if i == k:\n",
    "        if Ci_efficiency[j] == 1:\n",
    "            yearsum_efficiency = yearsum_efficiency + Ci_P[j]\n",
    "    elif i == 2019:\n",
    "        break\n",
    "    else:     \n",
    "        Ci_by_year_efficiency = np.append(Ci_by_year_efficiency, yearsum_efficiency)\n",
    "        k = k + 1\n",
    "        yearsum_cathode = 0\n",
    "    j = j + 1\n",
    "Ci_by_year_efficiency "
   ]
  },
  {
   "cell_type": "code",
   "execution_count": 9,
   "metadata": {},
   "outputs": [
    {
     "data": {
      "text/plain": [
       "array([ 1230.,  2161.,  3380., 10308.,  5795.,  7108.,  4616.,  8598.,\n",
       "        5693., 11643., 11843., 13625.,  4507.,  7465.,  6554., 15371.,\n",
       "        7112.,  7361.,  6705.,  4009.,  4021.])"
      ]
     },
     "execution_count": 9,
     "metadata": {},
     "output_type": "execute_result"
    }
   ],
   "source": [
    "# Citations of all publishers that satisfies the second condition, \"electrode\", by years\n",
    "j = 0 #index\n",
    "k = 1997 \n",
    "yearsum_electrode = 0\n",
    "Ci_by_year_electrode = np.array([])\n",
    "for i in Ci_P_years:\n",
    "    if i == k:\n",
    "        if Ci_electrode[j] == 1:\n",
    "            yearsum_electrode = yearsum_electrode + Ci_P[j]\n",
    "    elif i == 2019:\n",
    "        break\n",
    "    else:     \n",
    "        Ci_by_year_electrode = np.append(Ci_by_year_electrode, yearsum_electrode)\n",
    "        k = k + 1\n",
    "        yearsum_electrode = 0\n",
    "    j = j + 1\n",
    "Ci_by_year_electrode"
   ]
  },
  {
   "cell_type": "code",
   "execution_count": 10,
   "metadata": {},
   "outputs": [
    {
     "data": {
      "text/plain": [
       "array([   0.,    0.,   48.,    0.,   60.,    0.,    0.,    0.,    0.,\n",
       "          9.,   89.,  471.,  119.,    0.,  746., 1523.,  170.,  222.,\n",
       "        136.,  310.,  416.])"
      ]
     },
     "execution_count": 10,
     "metadata": {},
     "output_type": "execute_result"
    }
   ],
   "source": [
    "# Citations of all publishers that satisfies all the conditions, by years\n",
    "j = 0 #index\n",
    "k = 1997 \n",
    "yearsum_all = 0\n",
    "Ci_by_year_all = np.array([])\n",
    "for i in Ci_P_years:\n",
    "    if i == k:\n",
    "        if Ci_efficiency[j] == 1 and Ci_electrode[j] == 1:\n",
    "            yearsum_all = yearsum_all + Ci_P[j]\n",
    "    elif i == 2019:\n",
    "        break\n",
    "    else:     \n",
    "        Ci_by_year_all = np.append(Ci_by_year_all, yearsum_all)\n",
    "        k = k + 1\n",
    "        yearsum_all = 0\n",
    "    j = j + 1\n",
    "Ci_by_year_all\n",
    "\n",
    "#Ci_SEI[j] == 1 and Ci_cathode[j] == 1 and Ci_anode[j] == 1 and Ci_efficiency[j] == 1 and Ci_electrode[j] == 1:"
   ]
  },
  {
   "cell_type": "code",
   "execution_count": 11,
   "metadata": {},
   "outputs": [
    {
     "data": {
      "text/plain": [
       "array([ 3564., 11036., 11735., 17070., 22078., 21639., 23795., 25157.,\n",
       "       29734., 36222., 34395., 47382., 19595., 32623., 30934., 42813.,\n",
       "       42468., 38574., 25135., 24045., 19013.])"
      ]
     },
     "execution_count": 11,
     "metadata": {},
     "output_type": "execute_result"
    }
   ],
   "source": [
    "# Total Citations vs EV Sales but 5 most influencing publisher only\n",
    "\n",
    "#USrtData_years = USrtData.iloc[:,1].values\n",
    "#USrtData_Ci = USrtData.iloc[:,3].values\n",
    "#USrtData_P = USrtData.iloc[:,2]\n",
    "# Citations of all publishers by years\n",
    "j = 0 #index\n",
    "k = 1997 #beginning of the data, end year will have to minus (Lag_N - 1) to account for the publishcation lag\n",
    "l = 0 # index for most influential publisher\n",
    "yearsum_5P = 0\n",
    "Ci_by_year_5P = np.array([])\n",
    "for i in USrtData_years:\n",
    "    if i == k and l < 5:\n",
    "        yearsum_5P = yearsum_5P + USrtData_Ci[j]\n",
    "    elif i == 2018:\n",
    "        break  \n",
    "    elif i == k and l == 5:\n",
    "        Ci_by_year_5P = np.append(Ci_by_year_5P, yearsum_5P)\n",
    "        yearsum_5P = 0\n",
    "    elif i > k:\n",
    "        yearsum_5P = yearsum_5P + USrtData_Ci[j]\n",
    "        k = k + 1\n",
    "        l = 0\n",
    "    j = j + 1\n",
    "    l = l + 1\n",
    "# Conditions can be changed later\n",
    "\n",
    "Ci_by_year_5P"
   ]
  },
  {
   "cell_type": "code",
   "execution_count": 12,
   "metadata": {},
   "outputs": [],
   "source": [
    "# Recapping variables:\n",
    "#y: EV Sales: Sales_sum\n",
    "#x: Ci_by_year, Ci_by_year_SEI, Ci_by_year_cathode, Ci_by_year_anode, Ci_by_year_efficiency, Ci_by_year_electrode, \n",
    "# Ci_by_year_5P"
   ]
  },
  {
   "cell_type": "code",
   "execution_count": 13,
   "metadata": {},
   "outputs": [],
   "source": [
    "# Linear model first\n",
    "Ci_by_year_log = np.log10(Ci_by_year)\n",
    "Sales_sum_log = np.log10(Sales_sum)\n",
    "model_OA = LinearRegression().fit(Ci_by_year_log.reshape(-1, 1), Sales_sum_log.reshape(-1, 1))"
   ]
  },
  {
   "cell_type": "code",
   "execution_count": 14,
   "metadata": {},
   "outputs": [],
   "source": [
    "yplot = model_OA.predict(Ci_by_year_log.reshape(-1, 1))"
   ]
  },
  {
   "cell_type": "code",
   "execution_count": 15,
   "metadata": {},
   "outputs": [
    {
     "data": {
      "image/png": "[encoded data removed]",
      "text/plain": [
       "<Figure size 432x288 with 1 Axes>"
      ]
     },
     "metadata": {
      "needs_background": "light"
     },
     "output_type": "display_data"
    }
   ],
   "source": [
    "plt.plot(Ci_by_year_log.reshape(-1, 1), yplot)\n",
    "plt.scatter(Ci_by_year_log, Sales_sum_log)\n",
    "plt.show()"
   ]
  },
  {
   "cell_type": "code",
   "execution_count": 24,
   "metadata": {},
   "outputs": [],
   "source": [
    "# trying log regression instead of linear - didnt work\n",
    "#model_OA_L = LogisticRegression().fit(Ci_by_year.reshape(-1, 1), Sales_sum.reshape(-1, 1).ravel())\n",
    "#yplot_L = model_OA_L.predict(Ci_by_year.reshape(-1, 1))"
   ]
  },
  {
   "cell_type": "code",
   "execution_count": 26,
   "metadata": {},
   "outputs": [
    {
     "data": {
      "image/png": "[encoded data removed]",
      "text/plain": [
       "<Figure size 432x288 with 1 Axes>"
      ]
     },
     "metadata": {
      "needs_background": "light"
     },
     "output_type": "display_data"
    }
   ],
   "source": [
    "#plt.plot(Ci_by_year.reshape(-1, 1), yplot_L)\n",
    "#plt.scatter(Ci_by_year, Sales_sum)\n",
    "#plt.show()\n",
    "\n",
    "#FINE I GI VE UP"
   ]
  },
  {
   "cell_type": "code",
   "execution_count": 31,
   "metadata": {},
   "outputs": [],
   "source": [
    "# do a poly fit for effeciency paper\n",
    "# plt.plot(np.log10(Ci_by_year_efficiency[2:]), np.log10(Sales_sum[2:]))\n",
    "#polyf = PolynomialFeatures(degree = 3)\n",
    "#linearf = LinearRegression()\n",
    "\n",
    "#x_poly = polynomial_features.fit_transform(np.log10(Ci_by_year_efficiency[2:]))\n",
    "#linearf.fit(x_poly, np.log10(Sales_sum[2:])\n",
    "#y_poly_pred = linearf.predict(x_poly)"
   ]
  },
  {
   "cell_type": "code",
   "execution_count": 48,
   "metadata": {},
   "outputs": [],
   "source": [
    "# Multivariable Regression\n",
    "## Recapping variables:\n",
    "#y: EV Sales: Sales_sum\n",
    "#x: Ci_by_year, Ci_by_year_SEI, Ci_by_year_cathode, Ci_by_year_anode, Ci_by_year_efficiency, Ci_by_year_electrode, \n",
    "# Ci_by_year_5P\n",
    "# Combining all the x's into one x df. not df. matrix.\n",
    "all_x = np.stack((Ci_by_year, Ci_by_year_SEI, Ci_by_year_cathode, Ci_by_year_anode, Ci_by_year_efficiency, Ci_by_year_electrode, Ci_by_year_5P))\n",
    "labels = (\"By Years\",\"Keyword: SEI\",\"Keyword: Cathode\",\"Keyword: Anode\",\"Keyword: Efficiency\",\"Keyword: Electrode\",\"5 most popular publishers\")\n",
    "\n",
    "\n",
    "jet = plt.get_cmap('jet')\n",
    "colors = iter(jet(np.linspace(0,1,10)))"
   ]
  },
  {
   "cell_type": "code",
   "execution_count": null,
   "metadata": {},
   "outputs": [],
   "source": [
    "# def correlation(df, variables, n_rows, n_cols)\n",
    "#     fig = plt.figure(figsize = (8,6))\n",
    "#     for i, var in enumerate(variables)\n",
    "#     ax = fig.add_subplot(n_rows, n_columns, i + 1)\n",
    "#     asset = df.loc[:,var]\n",
    "#     ax.scatter(df[\"EV Sales\"], asset, )\n",
    "# some function that creates multiple plots - not really important for now"
   ]
  },
  {
   "cell_type": "code",
   "execution_count": 72,
   "metadata": {},
   "outputs": [],
   "source": [
    "combined_data = pd.DataFrame({'Total Citations per Year': Ci_by_year, 'Keyword_SEI': Ci_by_year_SEI, 'Keyword_cathode': Ci_by_year_cathode, 'Keyword_anode':Ci_by_year_anode, 'Keyword_Efficiency': Ci_by_year_efficiency, 'Keyword_electrode': Ci_by_year_electrode, 'Ci_5IPub': Ci_by_year_5P,'EV_Sales': Sales_sum})\n",
    "MultiLinear = LinearRegression()\n",
    "\n",
    "train = combined_data[combined_data.index < 15]\n",
    "test = combined_data[combined_data.index >= 15]\n",
    "X_train = train[[\"Total Citations per Year\",\"Keyword_SEI\",\"Keyword_cathode\",\"Keyword_anode\",\"Keyword_Efficiency\",\"Keyword_electrode\",\"Ci_5IPub\"]]\n",
    "Y_train = train[[\"EV_Sales\"]]"
   ]
  },
  {
   "cell_type": "code",
   "execution_count": 75,
   "metadata": {},
   "outputs": [
    {
     "data": {
      "text/plain": [
       "LinearRegression()"
      ]
     },
     "execution_count": 75,
     "metadata": {},
     "output_type": "execute_result"
    }
   ],
   "source": [
    "MultiLinear.fit(X_train,Y_train)"
   ]
  },
  {
   "cell_type": "code",
   "execution_count": 77,
   "metadata": {},
   "outputs": [],
   "source": [
    "X_test = test[[\"Total Citations per Year\",\"Keyword_SEI\",\"Keyword_cathode\",\"Keyword_anode\",\"Keyword_Efficiency\",\"Keyword_electrode\",\"Ci_5IPub\"]].values\n",
    "Y_test = test[[\"EV_Sales\"]].values\n"
   ]
  },
  {
   "cell_type": "code",
   "execution_count": 85,
   "metadata": {},
   "outputs": [
    {
     "data": {
      "text/plain": [
       "array([1.31448633])"
      ]
     },
     "execution_count": 85,
     "metadata": {},
     "output_type": "execute_result"
    }
   ],
   "source": [
    "predictions = MultiLinear.predict(X_test)\n",
    "Mean_Error = sum(abs(predictions - Y_test))/test.shape[0]\n",
    "Mean_Error\n",
    "# Mean Error big :(\n",
    "Mean_Error_avg = Mean_Error / np.average(Y_test)\n",
    "Mean_Error_avg\n",
    "# Mean Error_avg is not that big BUT what does that result even mean"
   ]
  },
  {
   "cell_type": "code",
   "execution_count": 94,
   "metadata": {},
   "outputs": [
    {
     "ename": "AttributeError",
     "evalue": "'numpy.ndarray' object has no attribute 'plot'",
     "output_type": "error",
     "traceback": [
      "\u001b[1;31m---------------------------------------------------------------------------\u001b[0m",
      "\u001b[1;31mAttributeError\u001b[0m                            Traceback (most recent call last)",
      "\u001b[1;32m<ipython-input-94-25be91e2b49e>\u001b[0m in \u001b[0;36m<module>\u001b[1;34m\u001b[0m\n\u001b[0;32m      4\u001b[0m \u001b[0mdf\u001b[0m\u001b[1;33m\u001b[0m\u001b[1;33m\u001b[0m\u001b[0m\n\u001b[0;32m      5\u001b[0m \u001b[0merror\u001b[0m \u001b[1;33m=\u001b[0m \u001b[0mY_test\u001b[0m \u001b[1;33m-\u001b[0m \u001b[0mpredictions\u001b[0m\u001b[1;33m\u001b[0m\u001b[1;33m\u001b[0m\u001b[0m\n\u001b[1;32m----> 6\u001b[1;33m \u001b[0merror\u001b[0m\u001b[1;33m.\u001b[0m\u001b[0mplot\u001b[0m\u001b[1;33m(\u001b[0m\u001b[0mkind\u001b[0m \u001b[1;33m=\u001b[0m \u001b[1;34m'bar'\u001b[0m\u001b[1;33m,\u001b[0m\u001b[0mfigsize\u001b[0m \u001b[1;33m=\u001b[0m \u001b[1;33m(\u001b[0m\u001b[1;36m8\u001b[0m\u001b[1;33m,\u001b[0m\u001b[1;36m6\u001b[0m\u001b[1;33m)\u001b[0m\u001b[1;33m)\u001b[0m\u001b[1;33m\u001b[0m\u001b[1;33m\u001b[0m\u001b[0m\n\u001b[0m",
      "\u001b[1;31mAttributeError\u001b[0m: 'numpy.ndarray' object has no attribute 'plot'"
     ]
    }
   ],
   "source": [
    "# have some plot idk\n",
    "\n",
    "df = pd.DataFrame({'Actual': [Y_test], 'Predicted': [predictions]})\n",
    "df\n",
    "error = Y_test - predictions\n",
    "error.plot(kind = 'bar',figsize = (8,6))"
   ]
  },
  {
   "cell_type": "code",
   "execution_count": 88,
   "metadata": {},
   "outputs": [
    {
     "data": {
      "text/plain": [
       "array([[571054],\n",
       "       [498423],\n",
       "       [506565],\n",
       "       [558449],\n",
       "       [704534],\n",
       "       [727390]], dtype=int64)"
      ]
     },
     "execution_count": 88,
     "metadata": {},
     "output_type": "execute_result"
    }
   ],
   "source": [
    "Y_test"
   ]
  },
  {
   "cell_type": "code",
   "execution_count": 89,
   "metadata": {},
   "outputs": [
    {
     "data": {
      "text/plain": [
       "array([[ 950691.2816349 ],\n",
       "       [1419074.93538428],\n",
       "       [1264990.43114814],\n",
       "       [1505331.40223686],\n",
       "       [1516315.91325634],\n",
       "       [1598014.81661523]])"
      ]
     },
     "execution_count": 89,
     "metadata": {},
     "output_type": "execute_result"
    }
   ],
   "source": [
    "predictions"
   ]
  },
  {
   "cell_type": "code",
   "execution_count": null,
   "metadata": {},
   "outputs": [],
   "source": []
  }
 ],
 "metadata": {
  "kernelspec": {
   "display_name": "Python 3",
   "language": "python",
   "name": "python3"
  },
  "language_info": {
   "codemirror_mode": {
    "name": "ipython",
    "version": 3
   },
   "file_extension": ".py",
   "mimetype": "text/x-python",
   "name": "python",
   "nbconvert_exporter": "python",
   "pygments_lexer": "ipython3",
   "version": "3.8.5"
  }
 },
 "nbformat": 4,
 "nbformat_minor": 4
}
