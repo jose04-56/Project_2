{
 "cells": [
  {
   "cell_type": "code",
   "execution_count": 1,
   "metadata": {},
   "outputs": [],
   "source": [
    "import pandas as pd\n",
    "import matplotlib.pyplot as plt\n",
    "import numpy as np\n",
    "import math\n",
    "from sklearn import svm, datasets"
   ]
  },
  {
   "cell_type": "code",
   "execution_count": 2,
   "metadata": {},
   "outputs": [],
   "source": [
    "# Overall Data\n",
    "PData = pd.read_csv(r\"C:\\Users\\thuyd\\Desktop\\bootcamp\\Project 2\\Dataset v1\\Updated Battery related publication dataset_DNedited.csv\")\n",
    "# Unique Publisher Data\n",
    "UData = pd.read_csv(r\"C:\\Users\\thuyd\\Desktop\\bootcamp\\Project 2\\Dataset v1\\Grouped unique publisher citations sum.csv\")\n",
    "# EV Car Sales Data\n",
    "SData = pd.read_csv(r\"C:\\Users\\thuyd\\Desktop\\bootcamp\\Project 2\\Dataset v1\\EVSales_Edited.csv\")\n",
    "# Unique Publisher Data - Sorted\n",
    "USrtData = pd.read_csv(r\"C:\\Users\\thuyd\\Desktop\\bootcamp\\Project 2\\Dataset v1\\Groupedsortedimpacted_publisher_citations_sum.csv\")"
   ]
  },
  {
   "cell_type": "code",
   "execution_count": 3,
   "metadata": {},
   "outputs": [
    {
     "data": {
      "text/html": [
       "<div>\n",
       "<style scoped>\n",
       "    .dataframe tbody tr th:only-of-type {\n",
       "        vertical-align: middle;\n",
       "    }\n",
       "\n",
       "    .dataframe tbody tr th {\n",
       "        vertical-align: top;\n",
       "    }\n",
       "\n",
       "    .dataframe thead th {\n",
       "        text-align: right;\n",
       "    }\n",
       "</style>\n",
       "<table border=\"1\" class=\"dataframe\">\n",
       "  <thead>\n",
       "    <tr style=\"text-align: right;\">\n",
       "      <th></th>\n",
       "      <th>Unnamed: 0</th>\n",
       "      <th>Year</th>\n",
       "      <th>Publisher</th>\n",
       "      <th>Citation Sum</th>\n",
       "      <th>Impact_Publisher</th>\n",
       "    </tr>\n",
       "  </thead>\n",
       "  <tbody>\n",
       "    <tr>\n",
       "      <th>0</th>\n",
       "      <td>0</td>\n",
       "      <td>1997</td>\n",
       "      <td>Elsevier</td>\n",
       "      <td>1520</td>\n",
       "      <td>Elsevier</td>\n",
       "    </tr>\n",
       "    <tr>\n",
       "      <th>1</th>\n",
       "      <td>1</td>\n",
       "      <td>1997</td>\n",
       "      <td>iopscience.iop.org</td>\n",
       "      <td>1071</td>\n",
       "      <td>iopscience.iop.org</td>\n",
       "    </tr>\n",
       "    <tr>\n",
       "      <th>2</th>\n",
       "      <td>2</td>\n",
       "      <td>1997</td>\n",
       "      <td>Google Patents</td>\n",
       "      <td>470</td>\n",
       "      <td>Google Patents</td>\n",
       "    </tr>\n",
       "    <tr>\n",
       "      <th>3</th>\n",
       "      <td>3</td>\n",
       "      <td>1997</td>\n",
       "      <td>ieeexplore.ieee.org</td>\n",
       "      <td>414</td>\n",
       "      <td>ieeexplore.ieee.org</td>\n",
       "    </tr>\n",
       "    <tr>\n",
       "      <th>4</th>\n",
       "      <td>4</td>\n",
       "      <td>1997</td>\n",
       "      <td>search.ebscohost.com</td>\n",
       "      <td>89</td>\n",
       "      <td>search.ebscohost.com</td>\n",
       "    </tr>\n",
       "    <tr>\n",
       "      <th>...</th>\n",
       "      <td>...</td>\n",
       "      <td>...</td>\n",
       "      <td>...</td>\n",
       "      <td>...</td>\n",
       "      <td>...</td>\n",
       "    </tr>\n",
       "    <tr>\n",
       "      <th>451</th>\n",
       "      <td>451</td>\n",
       "      <td>2020</td>\n",
       "      <td>electrochemsci.org</td>\n",
       "      <td>2</td>\n",
       "      <td>NaN</td>\n",
       "    </tr>\n",
       "    <tr>\n",
       "      <th>452</th>\n",
       "      <td>452</td>\n",
       "      <td>2020</td>\n",
       "      <td>nature.com</td>\n",
       "      <td>1</td>\n",
       "      <td>NaN</td>\n",
       "    </tr>\n",
       "    <tr>\n",
       "      <th>453</th>\n",
       "      <td>453</td>\n",
       "      <td>2020</td>\n",
       "      <td>pubmed.ncbi.nlm.nih.gov</td>\n",
       "      <td>1</td>\n",
       "      <td>NaN</td>\n",
       "    </tr>\n",
       "    <tr>\n",
       "      <th>454</th>\n",
       "      <td>454</td>\n",
       "      <td>2020</td>\n",
       "      <td>Springer</td>\n",
       "      <td>0</td>\n",
       "      <td>NaN</td>\n",
       "    </tr>\n",
       "    <tr>\n",
       "      <th>455</th>\n",
       "      <td>455</td>\n",
       "      <td>2020</td>\n",
       "      <td>pubs.rsc.org</td>\n",
       "      <td>0</td>\n",
       "      <td>NaN</td>\n",
       "    </tr>\n",
       "  </tbody>\n",
       "</table>\n",
       "<p>456 rows × 5 columns</p>\n",
       "</div>"
      ],
      "text/plain": [
       "     Unnamed: 0  Year                Publisher  Citation Sum  \\\n",
       "0             0  1997                 Elsevier          1520   \n",
       "1             1  1997       iopscience.iop.org          1071   \n",
       "2             2  1997           Google Patents           470   \n",
       "3             3  1997      ieeexplore.ieee.org           414   \n",
       "4             4  1997     search.ebscohost.com            89   \n",
       "..          ...   ...                      ...           ...   \n",
       "451         451  2020       electrochemsci.org             2   \n",
       "452         452  2020               nature.com             1   \n",
       "453         453  2020  pubmed.ncbi.nlm.nih.gov             1   \n",
       "454         454  2020                 Springer             0   \n",
       "455         455  2020             pubs.rsc.org             0   \n",
       "\n",
       "         Impact_Publisher  \n",
       "0                Elsevier  \n",
       "1      iopscience.iop.org  \n",
       "2          Google Patents  \n",
       "3     ieeexplore.ieee.org  \n",
       "4    search.ebscohost.com  \n",
       "..                    ...  \n",
       "451                   NaN  \n",
       "452                   NaN  \n",
       "453                   NaN  \n",
       "454                   NaN  \n",
       "455                   NaN  \n",
       "\n",
       "[456 rows x 5 columns]"
      ]
     },
     "execution_count": 3,
     "metadata": {},
     "output_type": "execute_result"
    }
   ],
   "source": [
    "# Checking the data\n",
    "#PData.head()\n",
    "#UData.head()\n",
    "#SData.head()\n",
    "USrtData"
   ]
  },
  {
   "cell_type": "code",
   "execution_count": 4,
   "metadata": {},
   "outputs": [
    {
     "data": {
      "text/plain": [
       "(21, 2)"
      ]
     },
     "execution_count": 4,
     "metadata": {},
     "output_type": "execute_result"
    }
   ],
   "source": [
    "# Checking the dimensions\n",
    "PData.shape\n",
    "UData.shape\n",
    "SData.shape"
   ]
  },
  {
   "cell_type": "code",
   "execution_count": 5,
   "metadata": {},
   "outputs": [],
   "source": [
    "# Citations Column: Unique\n",
    "Ci_sum = UData.iloc[0:,3].values\n",
    "Ci_years = UData.iloc[0:,1].values\n",
    "\n",
    "# Citations full data - options\n",
    "Ci_P_years = PData.iloc[0:,1].values\n",
    "Ci_P = PData.iloc[0:,0].values\n",
    "Ci_SEI = PData.iloc[0:,6].values\n",
    "Ci_cathode = PData.iloc[0:,7].values\n",
    "Ci_anode = PData.iloc[0:,8].values\n",
    "Ci_efficiency = PData.iloc[0:,9].values\n",
    "Ci_electrode = PData.iloc[0:,10].values\n",
    "\n",
    "# EV Sales Column\n",
    "Sales_sum = SData.iloc[:,1].values\n",
    "Sales_years = SData.iloc[:,0].values\n",
    "\n",
    "# Citations - Publishers unique and sorted\n",
    "USrtData_years = USrtData.iloc[:,1].values\n",
    "USrtData_Ci = USrtData.iloc[:,3].values\n",
    "USrtData_P = USrtData.iloc[:,2]\n",
    "\n",
    "#Sales_years.size for size\n",
    "# Lag_N is assigned publishcation lag\n",
    "\n",
    "Lag_N = 2"
   ]
  },
  {
   "cell_type": "code",
   "execution_count": 6,
   "metadata": {},
   "outputs": [],
   "source": [
    "# Calculating the number of ranges\n",
    "# N_of_ranges = math.floor((np.max(Ci_years) - Lag_N - np.min(Ci_years)) / (Lag_N+1)) \n",
    "# What did I do here. What was I trying to prove."
   ]
  },
  {
   "cell_type": "code",
   "execution_count": 7,
   "metadata": {},
   "outputs": [
    {
     "data": {
      "text/plain": [
       "array([ 3819., 11862., 12632., 18320., 25058., 23792., 24569., 27065.,\n",
       "       31693., 42911., 37763., 55467., 22914., 36535., 36645., 48879.,\n",
       "       46804., 41621., 28485., 26364., 22815.])"
      ]
     },
     "execution_count": 7,
     "metadata": {},
     "output_type": "execute_result"
    }
   ],
   "source": [
    "# Citations of all publishers by years\n",
    "j = 0 #index\n",
    "k = 1997 #beginning of the data, end year will have to minus (Lag_N - 1) to account for the publishcation lag\n",
    "yearsum = 0\n",
    "Ci_by_year = np.array([])\n",
    "for i in Ci_years:\n",
    "    if i == k:\n",
    "        yearsum = yearsum + Ci_sum[j]\n",
    "    elif i == 2019:\n",
    "        break\n",
    "    else:\n",
    "        Ci_by_year = np.append(Ci_by_year, yearsum)\n",
    "        k = k + 1\n",
    "        yearsum = 0\n",
    "        yearsum = yearsum + Ci_sum[j]\n",
    "    j = j + 1\n",
    "    \n",
    "# Conditions can be changed later\n",
    "\n",
    "Ci_by_year"
   ]
  },
  {
   "cell_type": "code",
   "execution_count": 8,
   "metadata": {},
   "outputs": [],
   "source": [
    "\n",
    "k = Lag_N \n",
    "Ci_by_yeargroup = np.array([])\n",
    "ygroupsum = 0\n",
    "for i in range(Ci_by_year.size):\n",
    "    if i < k:\n",
    "        ygroupsum = ygroupsum + Ci_by_year[i]\n",
    "    elif i == k:\n",
    "        Ci_by_yeargroup = np.append(Ci_by_yeargroup,ygroupsum)\n",
    "        ygroupsum = 0\n",
    "        ygroupsum = ygroupsum + Ci_by_year[i]\n",
    "        k = k + Lag_N"
   ]
  },
  {
   "cell_type": "code",
   "execution_count": 9,
   "metadata": {},
   "outputs": [],
   "source": [
    "k = Lag_N \n",
    "Sales_by_yeargroup = np.array([])\n",
    "Sgroupsum = 0\n",
    "for i in range(Sales_sum.size):\n",
    "    if i < k:\n",
    "        Sgroupsum = Sgroupsum + Sales_sum[i]\n",
    "    elif i == k:\n",
    "        Sales_by_yeargroup = np.append(Sales_by_yeargroup,Sgroupsum)\n",
    "        Sgroupsum = 0\n",
    "        Sgroupsum = Sgroupsum + Sales_sum[i]\n",
    "        k = k + Lag_N"
   ]
  },
  {
   "cell_type": "code",
   "execution_count": 10,
   "metadata": {
    "scrolled": true
   },
   "outputs": [
    {
     "data": {
      "image/png": "[encoded data removed]",
      "text/plain": [
       "<Figure size 432x288 with 1 Axes>"
      ]
     },
     "metadata": {
      "needs_background": "light"
     },
     "output_type": "display_data"
    }
   ],
   "source": [
    "# a range of 2 years\n",
    "plt.scatter(np.log10(Ci_by_yeargroup), np.log10(Sales_by_yeargroup))\n",
    "plt.title('Scatter plot for ~sum of 2 years citation~ and ~sum of 2 years sales~')\n",
    "plt.xlabel('Citations')\n",
    "plt.ylabel('Sales')\n",
    "plt.show()"
   ]
  },
  {
   "cell_type": "code",
   "execution_count": 11,
   "metadata": {},
   "outputs": [
    {
     "data": {
      "image/png": "[encoded data removed]",
      "text/plain": [
       "<Figure size 432x288 with 1 Axes>"
      ]
     },
     "metadata": {
      "needs_background": "light"
     },
     "output_type": "display_data"
    }
   ],
   "source": [
    "# 2 years lag\n",
    "plt.scatter(np.log10(Ci_by_year), np.log10(Sales_sum))\n",
    "plt.title('Scatter plot for citations vs sales, 2 year lag')\n",
    "plt.xlabel('Citations')\n",
    "plt.ylabel('Sales')\n",
    "plt.show()"
   ]
  },
  {
   "cell_type": "code",
   "execution_count": 12,
   "metadata": {},
   "outputs": [
    {
     "data": {
      "image/png": "[encoded data removed]",
      "text/plain": [
       "<Figure size 432x288 with 1 Axes>"
      ]
     },
     "metadata": {
      "needs_background": "light"
     },
     "output_type": "display_data"
    }
   ],
   "source": [
    "# N years lag - can change the index for the slicing to see how different, but its a no-correlation kind of things\n",
    "plt.scatter(np.log10(Ci_by_year[:-5]), np.log10(Sales_sum[5:]))\n",
    "plt.title('Scatter plot for citations vs sales, 7 years lag')\n",
    "plt.xlabel('Citations')\n",
    "plt.ylabel('Sales')\n",
    "plt.show()"
   ]
  },
  {
   "cell_type": "code",
   "execution_count": 13,
   "metadata": {},
   "outputs": [
    {
     "data": {
      "text/plain": [
       "array([  787.,  1641.,  3726.,  1612.,  7802.,  6552., 10066., 11204.,\n",
       "        8870., 13445.,  9248., 18696.,  8891.,  7978., 11396., 17777.,\n",
       "       13182., 15891., 12775., 10504., 10945.])"
      ]
     },
     "execution_count": 13,
     "metadata": {},
     "output_type": "execute_result"
    }
   ],
   "source": [
    "# Citations of all publishers that satisfies the first condition, \"SEI\", by years\n",
    "j = 0 #index\n",
    "k = 1997 \n",
    "yearsum_SEI = 0\n",
    "Ci_by_year_SEI = np.array([])\n",
    "for i in Ci_P_years:\n",
    "    if i == k:\n",
    "        if Ci_SEI[j] == 1:\n",
    "            yearsum_SEI = yearsum_SEI + Ci_P[j]\n",
    "    elif i == 2019: #2019 is cut off point because the lag is 2 years\n",
    "        break\n",
    "    else:     \n",
    "        Ci_by_year_SEI = np.append(Ci_by_year_SEI, yearsum_SEI)\n",
    "        k = k + 1\n",
    "        yearsum_SEI = 0\n",
    "    j = j + 1\n",
    "    \n",
    "#Ci_P_years = PData.iloc[0:,1].values\n",
    "#Ci_P = PData.iloc[0:,0].values\n",
    "#Ci_SEI = PData.iloc[0:,6].values\n",
    "\n",
    "Ci_by_year_SEI"
   ]
  },
  {
   "cell_type": "code",
   "execution_count": 30,
   "metadata": {},
   "outputs": [
    {
     "data": {
      "text/plain": [
       "array([  787.,  1641.,  3726.,  1612.,  7802.,  6552., 10066., 11204.,\n",
       "        8870., 13445.,  9248., 18696.,  8891.,  7978., 11396., 17777.,\n",
       "       13182., 15891., 12775., 10504., 10945.])"
      ]
     },
     "execution_count": 30,
     "metadata": {},
     "output_type": "execute_result"
    }
   ],
   "source": [
    "Ci_by_year_SEI"
   ]
  },
  {
   "cell_type": "code",
   "execution_count": 31,
   "metadata": {},
   "outputs": [
    {
     "ename": "TypeError",
     "evalue": "scatter() missing 1 required positional argument: 'y'",
     "output_type": "error",
     "traceback": [
      "\u001b[1;31m---------------------------------------------------------------------------\u001b[0m",
      "\u001b[1;31mTypeError\u001b[0m                                 Traceback (most recent call last)",
      "\u001b[1;32m<ipython-input-31-09fd8aff1053>\u001b[0m in \u001b[0;36m<module>\u001b[1;34m\u001b[0m\n\u001b[0;32m      1\u001b[0m \u001b[0mplt\u001b[0m\u001b[1;33m.\u001b[0m\u001b[0mscatter\u001b[0m\u001b[1;33m(\u001b[0m\u001b[0mnp\u001b[0m\u001b[1;33m.\u001b[0m\u001b[0mlog10\u001b[0m\u001b[1;33m(\u001b[0m\u001b[0mCi_by_year_SEI\u001b[0m\u001b[1;33m)\u001b[0m\u001b[1;33m,\u001b[0m \u001b[0mnp\u001b[0m\u001b[1;33m.\u001b[0m\u001b[0mlog10\u001b[0m\u001b[1;33m(\u001b[0m\u001b[0mSales_sum\u001b[0m\u001b[1;33m)\u001b[0m\u001b[1;33m)\u001b[0m\u001b[1;33m\u001b[0m\u001b[1;33m\u001b[0m\u001b[0m\n\u001b[1;32m----> 2\u001b[1;33m \u001b[0mplt\u001b[0m\u001b[1;33m.\u001b[0m\u001b[0mscatter\u001b[0m\u001b[1;33m(\u001b[0m\u001b[1;34m'Scatter plot for citations of \"SEI\" paper vs sales, 2 year lag'\u001b[0m\u001b[1;33m)\u001b[0m\u001b[1;33m\u001b[0m\u001b[1;33m\u001b[0m\u001b[0m\n\u001b[0m\u001b[0;32m      3\u001b[0m \u001b[0mplt\u001b[0m\u001b[1;33m.\u001b[0m\u001b[0mxlabel\u001b[0m\u001b[1;33m(\u001b[0m\u001b[1;34m'Citations'\u001b[0m\u001b[1;33m)\u001b[0m\u001b[1;33m\u001b[0m\u001b[1;33m\u001b[0m\u001b[0m\n\u001b[0;32m      4\u001b[0m \u001b[0mplt\u001b[0m\u001b[1;33m.\u001b[0m\u001b[0mylabel\u001b[0m\u001b[1;33m(\u001b[0m\u001b[1;34m'Sales'\u001b[0m\u001b[1;33m)\u001b[0m\u001b[1;33m\u001b[0m\u001b[1;33m\u001b[0m\u001b[0m\n\u001b[0;32m      5\u001b[0m \u001b[0mplt\u001b[0m\u001b[1;33m.\u001b[0m\u001b[0mshow\u001b[0m\u001b[1;33m(\u001b[0m\u001b[1;33m)\u001b[0m\u001b[1;33m\u001b[0m\u001b[1;33m\u001b[0m\u001b[0m\n",
      "\u001b[1;31mTypeError\u001b[0m: scatter() missing 1 required positional argument: 'y'"
     ]
    },
    {
     "data": {
      "image/png": "[encoded data removed]",
      "text/plain": [
       "<Figure size 432x288 with 1 Axes>"
      ]
     },
     "metadata": {
      "needs_background": "light"
     },
     "output_type": "display_data"
    }
   ],
   "source": [
    "plt.scatter(np.log10(Ci_by_year_SEI), np.log10(Sales_sum))\n",
    "plt.scatter('Scatter plot for citations of \"SEI\" paper vs sales, 2 year lag')\n",
    "plt.xlabel('Citations')\n",
    "plt.ylabel('Sales')\n",
    "plt.show()"
   ]
  },
  {
   "cell_type": "code",
   "execution_count": 18,
   "metadata": {},
   "outputs": [
    {
     "data": {
      "text/plain": [
       "array([ 183.,  870.,  469.,  309., 5194., 3572., 2250., 4260., 3508.,\n",
       "       5101., 4951., 7281., 2912., 2688., 6110., 4432., 3738., 6025.,\n",
       "       1322., 2344.,  998.])"
      ]
     },
     "execution_count": 18,
     "metadata": {},
     "output_type": "execute_result"
    }
   ],
   "source": [
    "#Ci_cathode = PData.iloc[0:,7].values\n",
    "#Ci_anode = PData.iloc[0:,8].values\n",
    "#Ci_efficiency = PData.iloc[0:,9].values\n",
    "#Ci_electrode = PData.iloc[0:,10].values\n",
    "\n",
    "# Citations of all publishers that satisfies the second condition, \"cathode\", by years\n",
    "j = 0 #index\n",
    "k = 1997 \n",
    "yearsum_cathode = 0\n",
    "Ci_by_year_cathode = np.array([])\n",
    "for i in Ci_P_years:\n",
    "    if i == k:\n",
    "        if Ci_cathode[j] == 1:\n",
    "            yearsum_cathode = yearsum_cathode + Ci_P[j]\n",
    "    elif i == 2019:\n",
    "        break\n",
    "    else:     \n",
    "        Ci_by_year_cathode = np.append(Ci_by_year_cathode, yearsum_cathode)\n",
    "        k = k + 1\n",
    "        yearsum_cathode = 0\n",
    "    j = j + 1\n",
    "Ci_by_year_cathode"
   ]
  },
  {
   "cell_type": "code",
   "execution_count": 19,
   "metadata": {},
   "outputs": [
    {
     "data": {
      "image/png": "[encoded data removed]",
      "text/plain": [
       "<Figure size 432x288 with 1 Axes>"
      ]
     },
     "metadata": {
      "needs_background": "light"
     },
     "output_type": "display_data"
    }
   ],
   "source": [
    "plt.scatter(np.log10(Ci_by_year_cathode),np.log10(Sales_sum))\n",
    "plt.title('Scatter plot for citations of \"cathode\" paper vs sales, 2 year lag')\n",
    "plt.xlabel('Citations')\n",
    "plt.ylabel('Sales')\n",
    "plt.show()"
   ]
  },
  {
   "cell_type": "code",
   "execution_count": 20,
   "metadata": {},
   "outputs": [
    {
     "data": {
      "text/plain": [
       "array([  635.,  1832.,  2120., 10557.,  6234.,  4739.,  6302.,  7046.,\n",
       "        5533.,  8163.,  9283., 23874.,  7347., 13253., 12133., 22359.,\n",
       "       12598., 19490.,  8078., 10425., 11915.])"
      ]
     },
     "execution_count": 20,
     "metadata": {},
     "output_type": "execute_result"
    }
   ],
   "source": [
    "# Citations of all publishers that satisfies the third condition, \"anode\", by years\n",
    "j = 0 #index\n",
    "k = 1997 \n",
    "yearsum_anode = 0\n",
    "Ci_by_year_anode = np.array([])\n",
    "for i in Ci_P_years:\n",
    "    if i == k:\n",
    "        if Ci_anode[j] == 1:\n",
    "            yearsum_anode = yearsum_anode + Ci_P[j]\n",
    "    elif i == 2019:\n",
    "        break\n",
    "    else:     \n",
    "        Ci_by_year_anode = np.append(Ci_by_year_anode, yearsum_anode)\n",
    "        k = k + 1\n",
    "        yearsum_anode = 0\n",
    "    j = j + 1\n",
    "Ci_by_year_anode"
   ]
  },
  {
   "cell_type": "code",
   "execution_count": 21,
   "metadata": {},
   "outputs": [
    {
     "data": {
      "image/png": "[encoded data removed]",
      "text/plain": [
       "<Figure size 432x288 with 1 Axes>"
      ]
     },
     "metadata": {
      "needs_background": "light"
     },
     "output_type": "display_data"
    }
   ],
   "source": [
    "plt.scatter(np.log10(Ci_by_year_anode), np.log10(Sales_sum))\n",
    "plt.title('Scatter plot for citations of \"anode\" paper vs sales, 2 year lag')\n",
    "plt.xlabel('Citations')\n",
    "plt.ylabel('Sales')\n",
    "plt.show()"
   ]
  },
  {
   "cell_type": "code",
   "execution_count": 22,
   "metadata": {},
   "outputs": [
    {
     "data": {
      "text/plain": [
       "array([    0.,     0.,    49.,    49.,   225.,   232.,   270.,   871.,\n",
       "         871.,  1118.,  1874.,  2620.,  3283.,  3439.,  5436.,  8575.,\n",
       "       11354., 11770., 13572., 14368., 16206.])"
      ]
     },
     "execution_count": 22,
     "metadata": {},
     "output_type": "execute_result"
    }
   ],
   "source": [
    "# Citations of all publishers that satisfies the fourth condition, \"efficiency\", by years\n",
    "j = 0 #index\n",
    "k = 1997 \n",
    "yearsum_efficiency = 0\n",
    "Ci_by_year_efficiency = np.array([])\n",
    "for i in Ci_P_years:\n",
    "    if i == k:\n",
    "        if Ci_efficiency[j] == 1:\n",
    "            yearsum_efficiency = yearsum_efficiency + Ci_P[j]\n",
    "    elif i == 2019:\n",
    "        break\n",
    "    else:     \n",
    "        Ci_by_year_efficiency = np.append(Ci_by_year_efficiency, yearsum_efficiency)\n",
    "        k = k + 1\n",
    "        yearsum_cathode = 0\n",
    "    j = j + 1\n",
    "Ci_by_year_efficiency "
   ]
  },
  {
   "cell_type": "code",
   "execution_count": 23,
   "metadata": {},
   "outputs": [
    {
     "data": {
      "image/png": "[encoded data removed]",
      "text/plain": [
       "<Figure size 432x288 with 1 Axes>"
      ]
     },
     "metadata": {
      "needs_background": "light"
     },
     "output_type": "display_data"
    }
   ],
   "source": [
    "plt.scatter(np.log10(Ci_by_year_efficiency[2:]), np.log10(Sales_sum[2:]))\n",
    "plt.title('Scatter plot for citations of \"efficiency\" paper vs sales, 2 year lag')\n",
    "plt.xlabel('Citations')\n",
    "plt.ylabel('Sales')\n",
    "plt.show()\n",
    "\n",
    "# added slicing bc there are 2 0s in the org array"
   ]
  },
  {
   "cell_type": "code",
   "execution_count": 24,
   "metadata": {},
   "outputs": [
    {
     "data": {
      "text/plain": [
       "array([ 1230.,  2161.,  3380., 10308.,  5795.,  7108.,  4616.,  8598.,\n",
       "        5693., 11643., 11843., 13625.,  4507.,  7465.,  6554., 15371.,\n",
       "        7112.,  7361.,  6705.,  4009.,  4021.])"
      ]
     },
     "execution_count": 24,
     "metadata": {},
     "output_type": "execute_result"
    }
   ],
   "source": [
    "# Citations of all publishers that satisfies the second condition, \"electrode\", by years\n",
    "j = 0 #index\n",
    "k = 1997 \n",
    "yearsum_electrode = 0\n",
    "Ci_by_year_electrode = np.array([])\n",
    "for i in Ci_P_years:\n",
    "    if i == k:\n",
    "        if Ci_electrode[j] == 1:\n",
    "            yearsum_electrode = yearsum_electrode + Ci_P[j]\n",
    "    elif i == 2019:\n",
    "        break\n",
    "    else:     \n",
    "        Ci_by_year_electrode = np.append(Ci_by_year_electrode, yearsum_electrode)\n",
    "        k = k + 1\n",
    "        yearsum_electrode = 0\n",
    "    j = j + 1\n",
    "Ci_by_year_electrode"
   ]
  },
  {
   "cell_type": "code",
   "execution_count": 25,
   "metadata": {},
   "outputs": [
    {
     "data": {
      "image/png": "[encoded data removed]",
      "text/plain": [
       "<Figure size 432x288 with 1 Axes>"
      ]
     },
     "metadata": {
      "needs_background": "light"
     },
     "output_type": "display_data"
    }
   ],
   "source": [
    "plt.scatter(np.log10(Ci_by_year_electrode), np.log10(Sales_sum))\n",
    "plt.title('Scatter plot for citations of \"electrode\" paper vs sales, 2 year lag')\n",
    "plt.xlabel('Citations')\n",
    "plt.ylabel('Sales')\n",
    "plt.show()"
   ]
  },
  {
   "cell_type": "code",
   "execution_count": 26,
   "metadata": {},
   "outputs": [
    {
     "data": {
      "text/plain": [
       "array([   0.,    0.,   48.,    0.,   60.,    0.,    0.,    0.,    0.,\n",
       "          9.,   89.,  471.,  119.,    0.,  746., 1523.,  170.,  222.,\n",
       "        136.,  310.,  416.])"
      ]
     },
     "execution_count": 26,
     "metadata": {},
     "output_type": "execute_result"
    }
   ],
   "source": [
    "# Citations of all publishers that satisfies all the conditions, by years\n",
    "j = 0 #index\n",
    "k = 1997 \n",
    "yearsum_all = 0\n",
    "Ci_by_year_all = np.array([])\n",
    "for i in Ci_P_years:\n",
    "    if i == k:\n",
    "        if Ci_efficiency[j] == 1 and Ci_electrode[j] == 1:\n",
    "            yearsum_all = yearsum_all + Ci_P[j]\n",
    "    elif i == 2019:\n",
    "        break\n",
    "    else:     \n",
    "        Ci_by_year_all = np.append(Ci_by_year_all, yearsum_all)\n",
    "        k = k + 1\n",
    "        yearsum_all = 0\n",
    "    j = j + 1\n",
    "Ci_by_year_all\n",
    "\n",
    "#Ci_SEI[j] == 1 and Ci_cathode[j] == 1 and Ci_anode[j] == 1 and Ci_efficiency[j] == 1 and Ci_electrode[j] == 1:"
   ]
  },
  {
   "cell_type": "code",
   "execution_count": 28,
   "metadata": {},
   "outputs": [
    {
     "data": {
      "text/plain": [
       "array([ 3564., 11036., 11735., 17070., 22078., 21639., 23795., 25157.,\n",
       "       29734., 36222., 34395., 47382., 19595., 32623., 30934., 42813.,\n",
       "       42468., 38574., 25135., 24045., 19013.])"
      ]
     },
     "execution_count": 28,
     "metadata": {},
     "output_type": "execute_result"
    }
   ],
   "source": [
    "# Total Citations vs EV Sales but 5 most influencing publisher only\n",
    "\n",
    "#USrtData_years = USrtData.iloc[:,1].values\n",
    "#USrtData_Ci = USrtData.iloc[:,3].values\n",
    "#USrtData_P = USrtData.iloc[:,2]\n",
    "# Citations of all publishers by years\n",
    "j = 0 #index\n",
    "k = 1997 #beginning of the data, end year will have to minus (Lag_N - 1) to account for the publishcation lag\n",
    "l = 0 # index for most influential publisher\n",
    "yearsum_5P = 0\n",
    "Ci_by_year_5P = np.array([])\n",
    "for i in USrtData_years:\n",
    "    if i == k and l < 5:\n",
    "        yearsum_5P = yearsum_5P + USrtData_Ci[j]\n",
    "    elif i == 2018:\n",
    "        break  \n",
    "    elif i == k and l == 5:\n",
    "        Ci_by_year_5P = np.append(Ci_by_year_5P, yearsum_5P)\n",
    "        yearsum_5P = 0\n",
    "    elif i > k:\n",
    "        yearsum_5P = yearsum_5P + USrtData_Ci[j]\n",
    "        k = k + 1\n",
    "        l = 0\n",
    "    j = j + 1\n",
    "    l = l + 1\n",
    "# Conditions can be changed later\n",
    "\n",
    "Ci_by_year_5P"
   ]
  },
  {
   "cell_type": "code",
   "execution_count": 29,
   "metadata": {},
   "outputs": [
    {
     "data": {
      "image/png": "[encoded data removed]",
      "text/plain": [
       "<Figure size 432x288 with 1 Axes>"
      ]
     },
     "metadata": {
      "needs_background": "light"
     },
     "output_type": "display_data"
    }
   ],
   "source": [
    "plt.scatter(np.log10(Ci_by_year_5P), np.log10(Sales_sum))\n",
    "plt.title('Scatter plot for citations of 5 most influential publisher, 2 year lag')\n",
    "plt.xlabel('Citations')\n",
    "plt.ylabel('Sales')\n",
    "plt.show()"
   ]
  },
  {
   "cell_type": "code",
   "execution_count": null,
   "metadata": {},
   "outputs": [],
   "source": [
    "# # Getting 5 most popular publishers name\n",
    "# #USrtData_years = USrtData.iloc[:,1].values\n",
    "# #USrtData_Ci = USrtData.iloc[:,3].values\n",
    "# #USrtData_P = USrtData.iloc[:,2]\n",
    "# # Citations of all publishers by years\n",
    "# j = 0 #index\n",
    "# k = 1997 #beginning of the data, end year will have to minus (Lag_N - 1) to account for the publishcation lag\n",
    "# l = 0 # index for most influential publisher\n",
    "# yearsum_5P = 0\n",
    "# Ci_by_year_5P = np.array([])\n",
    "# for i in USrtData_years:\n",
    "#     if i == k and l < 5:\n",
    "#         yearsum_5P = yearsum_5P + USrtData_Ci[j]\n",
    "#     elif i == 2018:\n",
    "#         break  \n",
    "#     elif i == k and l == 5:\n",
    "#         Ci_by_year_5P = np.append(Ci_by_year_5P, yearsum_5P)\n",
    "#         yearsum_5P = 0\n",
    "#     elif i > k:\n",
    "#         yearsum_5P = yearsum_5P + USrtData_Ci[j]\n",
    "#         k = k + 1\n",
    "#         l = 0\n",
    "#     j = j + 1\n",
    "#     l = l + 1\n",
    "# # Conditions can be changed later\n",
    "\n",
    "# Ci_by_year_5P"
   ]
  },
  {
   "cell_type": "code",
   "execution_count": null,
   "metadata": {},
   "outputs": [],
   "source": []
  },
  {
   "cell_type": "code",
   "execution_count": null,
   "metadata": {},
   "outputs": [],
   "source": []
  },
  {
   "cell_type": "code",
   "execution_count": null,
   "metadata": {},
   "outputs": [],
   "source": []
  },
  {
   "cell_type": "code",
   "execution_count": null,
   "metadata": {},
   "outputs": [],
   "source": []
  },
  {
   "cell_type": "code",
   "execution_count": null,
   "metadata": {},
   "outputs": [],
   "source": []
  },
  {
   "cell_type": "code",
   "execution_count": null,
   "metadata": {},
   "outputs": [],
   "source": []
  },
  {
   "cell_type": "code",
   "execution_count": null,
   "metadata": {},
   "outputs": [],
   "source": []
  },
  {
   "cell_type": "code",
   "execution_count": null,
   "metadata": {},
   "outputs": [],
   "source": []
  },
  {
   "cell_type": "code",
   "execution_count": null,
   "metadata": {},
   "outputs": [],
   "source": []
  }
 ],
 "metadata": {
  "kernelspec": {
   "display_name": "Python 3",
   "language": "python",
   "name": "python3"
  },
  "language_info": {
   "codemirror_mode": {
    "name": "ipython",
    "version": 3
   },
   "file_extension": ".py",
   "mimetype": "text/x-python",
   "name": "python",
   "nbconvert_exporter": "python",
   "pygments_lexer": "ipython3",
   "version": "3.8.5"
  }
 },
 "nbformat": 4,
 "nbformat_minor": 4
}
